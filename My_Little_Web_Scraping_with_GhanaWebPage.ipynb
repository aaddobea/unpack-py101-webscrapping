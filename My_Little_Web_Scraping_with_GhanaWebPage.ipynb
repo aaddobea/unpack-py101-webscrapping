{
  "nbformat": 4,
  "nbformat_minor": 0,
  "metadata": {
    "colab": {
      "provenance": [],
      "authorship_tag": "ABX9TyPeKW1iJmOjTHQxSwZqgvwC",
      "include_colab_link": true
    },
    "kernelspec": {
      "name": "python3",
      "display_name": "Python 3"
    },
    "language_info": {
      "name": "python"
    }
  },
  "cells": [
    {
      "cell_type": "markdown",
      "metadata": {
        "id": "view-in-github",
        "colab_type": "text"
      },
      "source": [
        "<a href=\"https://colab.research.google.com/github/aaddobea/unpack-py101-webscrapping/blob/main/My_Little_Web_Scraping_with_GhanaWebPage.ipynb\" target=\"_parent\"><img src=\"https://colab.research.google.com/assets/colab-badge.svg\" alt=\"Open In Colab\"/></a>"
      ]
    },
    {
      "cell_type": "markdown",
      "source": [
        "# **Installing Dependences** ♈"
      ],
      "metadata": {
        "id": "6AxEBvztvM9N"
      }
    },
    {
      "cell_type": "code",
      "execution_count": 1,
      "metadata": {
        "colab": {
          "base_uri": "https://localhost:8080/"
        },
        "id": "P4Fbr2Jer_zs",
        "outputId": "27bb49a0-16db-48fa-b345-f99633978de4"
      },
      "outputs": [
        {
          "output_type": "stream",
          "name": "stdout",
          "text": [
            "Requirement already satisfied: requests in /usr/local/lib/python3.10/dist-packages (2.31.0)\n",
            "Requirement already satisfied: charset-normalizer<4,>=2 in /usr/local/lib/python3.10/dist-packages (from requests) (3.3.2)\n",
            "Requirement already satisfied: idna<4,>=2.5 in /usr/local/lib/python3.10/dist-packages (from requests) (3.7)\n",
            "Requirement already satisfied: urllib3<3,>=1.21.1 in /usr/local/lib/python3.10/dist-packages (from requests) (2.0.7)\n",
            "Requirement already satisfied: certifi>=2017.4.17 in /usr/local/lib/python3.10/dist-packages (from requests) (2024.2.2)\n",
            "Requirement already satisfied: beautifulsoup4 in /usr/local/lib/python3.10/dist-packages (4.12.3)\n",
            "Requirement already satisfied: soupsieve>1.2 in /usr/local/lib/python3.10/dist-packages (from beautifulsoup4) (2.5)\n"
          ]
        }
      ],
      "source": [
        "%pip install requests\n",
        "%pip install beautifulsoup4"
      ]
    },
    {
      "cell_type": "markdown",
      "source": [
        "# **Importing Libraries**"
      ],
      "metadata": {
        "id": "FvGoqIucviwo"
      }
    },
    {
      "cell_type": "code",
      "source": [
        "import requests\n",
        "from bs4 import BeautifulSoup"
      ],
      "metadata": {
        "id": "u6aL-V5qvVkF"
      },
      "execution_count": 3,
      "outputs": []
    },
    {
      "cell_type": "markdown",
      "source": [
        "# **Fetching the webpage**"
      ],
      "metadata": {
        "id": "ec_QtALHvy19"
      }
    },
    {
      "cell_type": "code",
      "source": [
        "#url = 'http://example.com'\n",
        "#url = 'https://www.myjoyonline.com/'\n",
        "url = 'https://www.ghanaweb.com/GhanaHomePage/business/'\n",
        "response = requests.get(url)\n",
        "\n",
        "# Check if the request was successful\n",
        "if response.status_code == 200:\n",
        "    page_content = response.content\n",
        "else:\n",
        "    print(f\"Failed to retrieve the page. Status code: {response.status_code}\")"
      ],
      "metadata": {
        "id": "Ts-eOyXzvhqI"
      },
      "execution_count": 4,
      "outputs": []
    },
    {
      "cell_type": "markdown",
      "source": [
        "# **Step 3: Parsing HTML Content**"
      ],
      "metadata": {
        "id": "yQ7w-nW-wdWp"
      }
    },
    {
      "cell_type": "code",
      "source": [
        "soup = BeautifulSoup(page_content, 'html.parser')"
      ],
      "metadata": {
        "id": "hBsyaWYWwNac"
      },
      "execution_count": 5,
      "outputs": []
    },
    {
      "cell_type": "markdown",
      "source": [
        "# **Step 4: Extracting the data from the HTML content**\n",
        "**Extracting the Title and Description**"
      ],
      "metadata": {
        "id": "RLqDayPswxnM"
      }
    },
    {
      "cell_type": "code",
      "source": [
        "page_title = soup.title.string\n",
        "print(f\"Page Title: {page_title}\")"
      ],
      "metadata": {
        "colab": {
          "base_uri": "https://localhost:8080/"
        },
        "id": "PrHW7LjmwpxB",
        "outputId": "11cf1ee0-e72a-48f6-d78c-554a13df2fee"
      },
      "execution_count": 6,
      "outputs": [
        {
          "output_type": "stream",
          "name": "stdout",
          "text": [
            "Page Title: Business in Ghana, News, Telephone Directory, Real Estate, Stock Exchange\n"
          ]
        }
      ]
    },
    {
      "cell_type": "markdown",
      "source": [
        "### **Step 5: Extracting Hyperlinks**"
      ],
      "metadata": {
        "id": "1sORrIcMxIqF"
      }
    },
    {
      "cell_type": "code",
      "source": [
        "links = soup.find_all('a')\n",
        "for link in links:\n",
        "    href = link.get('href')\n",
        "    link_text = link.string\n",
        "    print(f\"Link Text: {link_text}, URL: {href}\")"
      ],
      "metadata": {
        "colab": {
          "base_uri": "https://localhost:8080/"
        },
        "id": "ro0U8tdwxH3M",
        "outputId": "07a9b358-48bc-4f2d-a7ae-4fe745a732a5"
      },
      "execution_count": 7,
      "outputs": [
        {
          "output_type": "stream",
          "name": "stdout",
          "text": [
            "Link Text: None, URL: /GhanaHomePage/\n",
            "Link Text: Youtube Icon, URL: https://www.youtube.com/channel/UCsL03z5sLvA0t8sjwDWf_3A\n",
            "Link Text: Facebook Icon, URL: https://www.facebook.com/TheGhanaWeb\n",
            "Link Text: Twitter Icon, URL: https://twitter.com/theghanaweb\n",
            "Link Text: Sign up, URL: https://www.ghanaweb.com/wall/private/register.php\n",
            "Link Text: Login, URL: https://www.ghanaweb.com/wall/private/login.php\n",
            "Link Text: Home, URL: https://www.ghanaweb.com\n",
            "Link Text: \n",
            "\t\t\tNews, URL: https://www.ghanaweb.com/GhanaHomePage/NewsArchive/\n",
            "Link Text: \n",
            "\t\t\tSports, URL: https://www.ghanaweb.com/GhanaHomePage/SportsArchive/\n",
            "Link Text: \n",
            "\t\t\tBusiness, URL: https://www.ghanaweb.com/GhanaHomePage/business/\n",
            "Link Text:  Entertainment, URL: https://www.ghanaweb.com/GhanaHomePage/entertainment/\n",
            "Link Text: \n",
            "\t\t\tAfrica, URL: https://www.ghanaweb.com/GhanaHomePage/africa/\n",
            "Link Text: GhanaWeb TV, URL: https://www.ghanaweb.com/GhanaHomePage/television/\n",
            "Link Text: Opinions, URL: https://www.ghanaweb.com/GhanaHomePage/opinions/\n",
            "Link Text: Home - Business, URL: /GhanaHomePage/business/\n",
            "Link Text: Business Archive, URL: /GhanaHomePage/business/browse.archive.php\n",
            "Link Text: Business | TV, URL: /GhanaHomePage/television/business\n",
            "Link Text: Year In Review, URL: /GhanaHomePage/year-in-review/?review=business\n",
            "Link Text: Business Headlines, URL: /headlines/?cat=business\n",
            "Link Text: BizTech | TV, URL: /GhanaHomePage/television/biztech\n",
            "Link Text: Business Directory, URL: /GhanaHomePage/business_directory/\n",
            "Link Text: Bank Of Ghana, URL: https://www.bog.gov.gh/\n",
            "Link Text: Business & Financial Times, URL: /headlines/?site=17\n",
            "Link Text: BusinessGhana, URL: /headlines/?site=16\n",
            "Link Text: Citi Business News, URL: /headlines/?site=5\n",
            "Link Text: Ghana Stock Exchange, URL: https://gse.com.gh/\n",
            "Link Text: Ghana Talks Business, URL: /headlines/?site=48\n",
            "Link Text: Budget - Archive, URL: /GhanaHomePage/economy/budget.php\n",
            "Link Text: Tax, URL: /GhanaHomePage/economy/tax.php\n",
            "Link Text: Trade, URL: /GhanaHomePage/economy/trade.php\n",
            "Link Text: Exchange Rate, URL: /GhanaHomePage/economy/forex.php\n",
            "Link Text: Stock Exchange (GSE), URL: /GhanaHomePage/economy/gse.php\n",
            "Link Text: Homepage, URL: /\n",
            "Link Text: News, URL: /GhanaHomePage/NewsArchive/\n",
            "Link Text: Business, URL: /GhanaHomePage/business/\n",
            "Link Text: Sports, URL: /GhanaHomePage/SportsArchive/\n",
            "Link Text: Entertainment, URL: /GhanaHomePage/entertainment/\n",
            "Link Text: Africa, URL: /GhanaHomePage/africa/\n",
            "Link Text: TV / Radio, URL: /GhanaHomePage/television/\n",
            "Link Text: Wall, URL: /wall/\n",
            "Link Text: None, URL: We-don-t-want-to-be-caught-by-any-surprises-BoG-Governor-tells-Societe-Generale-1932991\n",
            "Link Text: None, URL: Billionaire-Ambani-to-provide-5G-broadband-services-to-mobile-internet-service-providers-in-Ghana-1932984\n",
            "Link Text: None, URL: You-cannot-break-the-eight-when-the-dollar-is-now-selling-at-GH-16-Traders-to-Bawumia-1933015\n",
            "Link Text: None, URL: Ghana-Federation-of-Traders-blames-BoG-Banks-others-over-cedi-depreciation-1933014\n",
            "Link Text: None, URL: https://www.ghanaweb.com/GhanaHomePage/business/Burkina-Faso-Mali-and-Niger-reaffirm-faith-in-Ghana-s-ports-1932803\n",
            "Link Text: None, URL: https://www.ghanaweb.com/GhanaHomePage/business/I-will-restore-the-cedi-in-100-days-John-Mahama-1932915\n",
            "Link Text: None, URL: https://www.ghanaweb.com/GhanaHomePage/business/Cut-dollar-rate-from-GH-15-50-to-GH-10-or-face-massive-demo-in-2-weeks-Traders-warn-1932892\n",
            "Link Text: None, URL: https://www.ghanaweb.com/GhanaHomePage/business/Stop-public-advertisement-of-foreign-exchange-rates-BoG-directs-forex-bureaus-1932848\n",
            "Link Text: None, URL: https://www.ghanaweb.com/GhanaHomePage/business/Mahama-behaving-like-he-just-landed-from-Mars-Bawumia-on-economic-crisis-comments-1932937\n",
            "Link Text: None, URL: https://www.ghanaweb.com/GhanaHomePage/business/Cedi-selling-at-GH-15-00-to-1-GH-19-70-for-1-at-major-forex-bureaus-1932748\n",
            "Link Text: None, URL: https://www.ghanaweb.com/GhanaHomePage/business/Duties-are-charged-in-cedis-GRA-sets-record-straight-1932799\n",
            "Link Text: None, URL: https://www.ghanaweb.com/GhanaHomePage/business/Please-don-t-leave-the-country-Mahama-pleads-with-businesses-investor-community-1932829\n",
            "Link Text: None, URL: https://www.ghanaweb.com/GhanaHomePage/business/Cedi-blues-Finance-Minister-urges-calm-1932758\n",
            "Link Text: None, URL: https://www.ghanaweb.com/GhanaHomePage/business/Naira-firms-as-Central-Bank-sells-dollars-amid-liquidity-concern-1932980\n",
            "Link Text: None, URL: https://www.ghanaweb.com/GhanaHomePage/business/Account-for-US-350m-allocated-to-Accra-flood-relief-projects-NDC-to-Akufo-Addo-1932887\n",
            "Link Text: None, URL: https://www.ghanaweb.com/GhanaHomePage/business/ECG-fully-complies-with-Cash-Waterfall-Mechanism-1932888\n",
            "Link Text: None, URL: https://www.ghanaweb.com/GhanaHomePage/business/BOST-CEO-board-chair-honored-at-2024-CEOs-Summit-1932959\n",
            "Link Text: None, URL: https://www.ghanaweb.com/GhanaHomePage/business/Repay-GH-7-1-billion-owed-to-GN-Bank-restore-my-banking-license-Ndoum-demands-1932774\n",
            "Link Text: None, URL: https://www.ghanaweb.com/GhanaHomePage/business/Ghana-s-resilient-economy-is-still-worth-your-money-Investors-told-1932972\n",
            "Link Text: None, URL: https://www.ghanaweb.com/GhanaHomePage/business/FLASHBACK-The-way-we-are-borrowing-a-time-will-come-we-will-pay-through-the-nose-Dr-Atuahene-1932944\n",
            "Link Text: None, URL: https://www.ghanaweb.com/GhanaHomePage/business/OmniBSIC-Bank-Ghana-enhances-customer-service-with-strategic-branch-relocations-1933030\n",
            "Link Text: None, URL: https://www.ghanaweb.com/GhanaHomePage/business/Tullow-commits-US-90-million-to-carbon-offset-project-1932925\n",
            "Link Text: None, URL: https://www.ghanaweb.com/GhanaHomePage/business/COCOBOD-to-borrow-up-to-1-5-billion-for-2024-25-cocoa-purchases-Sources-1932747\n",
            "Link Text: None, URL: https://www.ghanaweb.com/GhanaHomePage/business/Minerals-Commission-ultra-modern-Ashanti-Regional-office-nears-completion-1932841\n",
            "Link Text: None, URL: https://www.ghanaweb.com/GhanaHomePage/business/We-re-checking-our-expenditure-in-this-election-year-Abena-Osei-Asare-1932945\n",
            "Link Text: None, URL: https://www.ghanaweb.com/GhanaHomePage/business/Release-relevant-documents-regarding-hotel-sale-process-Afenyo-Markin-to-SSNIT-management-1932976\n",
            "Link Text: None, URL: https://www.ghanaweb.com/GhanaHomePage/business/US-1-would-have-been-GH-50-if-NPP-was-not-in-power-Carlos-Ahenkorah-1932901\n",
            "Link Text: None, URL: https://www.ghanaweb.com/GhanaHomePage/business/There-s-no-end-in-sight-Mahama-on-continuous-cedi-depreciation-1932831\n",
            "Link Text: None, URL: https://www.ghanaweb.com/GhanaHomePage/business/Successive-governments-have-looted-NIB-Franklin-Cudjoe-1932730\n",
            "Link Text: None, URL: https://www.ghanaweb.com/GhanaHomePage/business/CEO-of-Margins-Group-Moses-Baiden-adjudged-overall-best-CEO-1932918\n",
            "Link Text: None, URL: https://www.ghanaweb.com/GhanaHomePage/business/BoG-urged-to-consistently-fulfill-regulatory-mandate-to-address-abuses-in-the-FX-market-1932933\n",
            "Link Text: None, URL: https://www.ghanaweb.com/GhanaHomePage/business/Over-40-of-our-businesses-have-been-taken-over-by-Chinese-companies-GUTA-laments-1932782\n",
            "Link Text: None, URL: https://www.ghanaweb.com/GhanaHomePage/business/Cedi-free-fall-Alan-Kyerematen-promises-fixed-forex-rate-for-importers-1932875\n",
            "Link Text: None, URL: https://www.ghanaweb.com/GhanaHomePage/business/BoG-maintains-monetary-policy-rate-at-29-as-inflation-exchange-rate-pressures-persist-1932802\n",
            "Link Text: None, URL: https://www.ghanaweb.com/GhanaHomePage/business/FULL-TEXT-BoG-keeps-policy-rate-unchanged-at-29-after-118th-MPC-meeting-1932822\n",
            "Link Text: None, URL: https://www.ghanaweb.com/GhanaHomePage/business/Finance-minister-leads-delegation-to-AfDB-annual-meetings-in-Nairobi-1932996\n",
            "Link Text: None, URL: https://www.ghanaweb.com/GhanaHomePage/business/Release-receipts-of-NHIL-into-Health-Insurance-Fund-Akandoh-to-government-1932732\n",
            "Link Text: None, URL: https://www.ghanaweb.com/GhanaHomePage/business/How-responsible-investing-combines-financial-benefit-and-impact-1932856\n",
            "Link Text: None, URL: https://www.ghanaweb.com/GhanaHomePage/business/Stanbic-Bank-reiterates-commitment-to-supporting-local-SMEs-1932880\n",
            "Link Text: None, URL: https://www.ghanaweb.com/GhanaHomePage/business/Policy-failures-weak-fundamentals-are-the-cause-of-Cedi-depreciation-Prof-Bokpin-1932823\n",
            "Link Text: None, URL: https://www.ghanaweb.com/GhanaHomePage/business/Our-executives-lack-accountability-they-must-resign-Small-scale-miners-1932973\n",
            "Link Text: None, URL: https://www.ghanaweb.com/GhanaHomePage/business/NLA-boss-Sammi-Awuku-wins-overall-public-sector-CEO-of-the-year-1932895\n",
            "Link Text: None, URL: https://www.ghanaweb.com/GhanaHomePage/business/Ghana-has-become-bankrupt-economy-collapsed-due-to-poor-leadership-Mahama-1932844\n",
            "Link Text: None, URL: https://www.ghanaweb.com/GhanaHomePage/business/Pensions-Scheme-crucial-for-Ghana-s-economic-development-1932859\n",
            "Link Text: None, URL: https://www.ghanaweb.com/GhanaHomePage/business/VCTF-catalyzes-private-capital-inflow-for-SME-equity-financing-1932914\n",
            "Link Text: None, URL: https://www.ghanaweb.com/GhanaHomePage/business/SIGA-Director-General-pays-historic-visit-to-Kumasi-Abattoir-1932827\n",
            "Link Text: None, URL: https://www.ghanaweb.com/GhanaHomePage/business/Ghana-Stock-Exchange-boosts-commercial-paper-markets-as-inflation-trends-downward-1932858\n",
            "Link Text: None, URL: https://www.ghanaweb.com/GhanaHomePage/business/GAB-President-urges-stakeholders-to-collaborate-to-tackle-advance-payment-issues-1932922\n",
            "Link Text: None, URL: https://www.ghanaweb.com/GhanaHomePage/business/First-National-Bank-helps-Makola-with-money-management-skills-1932789\n",
            "Link Text: None, URL: https://www.ghanaweb.com/GhanaHomePage/business/Experts-call-for-greater-local-participation-in-venture-capital-investments-1932751\n",
            "Link Text: None, URL: https://www.ghanaweb.com/GhanaHomePage/business/Banks-favouring-cash-reserves-over-private-sector-lending-despite-CRR-directive-1932912\n",
            "Link Text: None, URL: https://www.ghanaweb.com/GhanaHomePage/business/Government-confident-on-path-to-macroeconomic-stability-but-admits-challenges-remain-1932750\n",
            "Link Text: None, URL: https://www.ghanaweb.com/GhanaHomePage/business/CSIR-SARI-engages-policy-makers-in-rice-value-chain-1932998\n",
            "Link Text: None, URL: https://www.ghanaweb.com/GhanaHomePage/business/Beige-Bank-case-Any-customer-whose-account-is-debited-receives-alert-Sixth-Defense-witness-to-Court-1932791\n",
            "Link Text: None, URL: /GhanaHomePage/business/OmniBSIC-Bank-Ghana-enhances-customer-service-with-strategic-branch-relocations-1933030\n",
            "Link Text: None, URL: /GhanaHomePage/business/You-cannot-break-the-eight-when-the-dollar-is-now-selling-at-GH-16-Traders-to-Bawumia-1933015\n",
            "Link Text: None, URL: /GhanaHomePage/business/Ghana-Federation-of-Traders-blames-BoG-Banks-others-over-cedi-depreciation-1933014\n",
            "Link Text: None, URL: /GhanaHomePage/business/CSIR-SARI-engages-policy-makers-in-rice-value-chain-1932998\n",
            "Link Text: None, URL: /GhanaHomePage/business/Finance-minister-leads-delegation-to-AfDB-annual-meetings-in-Nairobi-1932996\n",
            "Link Text: None, URL: /GhanaHomePage/business/We-don-t-want-to-be-caught-by-any-surprises-BoG-Governor-tells-Societe-Generale-1932991\n",
            "Link Text: None, URL: /GhanaHomePage/business/Billionaire-Ambani-to-provide-5G-broadband-services-to-mobile-internet-service-providers-in-Ghana-1932984\n",
            "Link Text: None, URL: /GhanaHomePage/business/Naira-firms-as-Central-Bank-sells-dollars-amid-liquidity-concern-1932980\n",
            "Link Text: None, URL: /GhanaHomePage/business/Release-relevant-documents-regarding-hotel-sale-process-Afenyo-Markin-to-SSNIT-management-1932976\n",
            "Link Text: None, URL: /GhanaHomePage/business/Our-executives-lack-accountability-they-must-resign-Small-scale-miners-1932973\n",
            "Link Text: None, URL: /GhanaHomePage/business/Ghana-s-resilient-economy-is-still-worth-your-money-Investors-told-1932972\n",
            "Link Text: None, URL: /GhanaHomePage/business/BOST-CEO-board-chair-honored-at-2024-CEOs-Summit-1932959\n",
            "Link Text: None, URL: /GhanaHomePage/business/We-re-checking-our-expenditure-in-this-election-year-Abena-Osei-Asare-1932945\n",
            "Link Text: None, URL: /GhanaHomePage/business/FLASHBACK-The-way-we-are-borrowing-a-time-will-come-we-will-pay-through-the-nose-Dr-Atuahene-1932944\n",
            "Link Text: None, URL: /GhanaHomePage/business/Mahama-behaving-like-he-just-landed-from-Mars-Bawumia-on-economic-crisis-comments-1932937\n",
            "Link Text: None, URL: /GhanaHomePage/business/BoG-urged-to-consistently-fulfill-regulatory-mandate-to-address-abuses-in-the-FX-market-1932933\n",
            "Link Text: None, URL: /GhanaHomePage/business/Tullow-commits-US-90-million-to-carbon-offset-project-1932925\n",
            "Link Text: None, URL: /GhanaHomePage/business/GAB-President-urges-stakeholders-to-collaborate-to-tackle-advance-payment-issues-1932922\n",
            "Link Text: None, URL: /GhanaHomePage/business/CEO-of-Margins-Group-Moses-Baiden-adjudged-overall-best-CEO-1932918\n",
            "Link Text: None, URL: /GhanaHomePage/business/I-will-restore-the-cedi-in-100-days-John-Mahama-1932915\n",
            "Link Text: None, URL: /GhanaHomePage/business/VCTF-catalyzes-private-capital-inflow-for-SME-equity-financing-1932914\n",
            "Link Text: None, URL: /GhanaHomePage/business/Banks-favouring-cash-reserves-over-private-sector-lending-despite-CRR-directive-1932912\n",
            "Link Text: None, URL: /GhanaHomePage/business/US-1-would-have-been-GH-50-if-NPP-was-not-in-power-Carlos-Ahenkorah-1932901\n",
            "Link Text: None, URL: /GhanaHomePage/business/NLA-boss-Sammi-Awuku-wins-overall-public-sector-CEO-of-the-year-1932895\n",
            "Link Text: None, URL: /GhanaHomePage/business/Cut-dollar-rate-from-GH-15-50-to-GH-10-or-face-massive-demo-in-2-weeks-Traders-warn-1932892\n",
            "Link Text: None, URL: /GhanaHomePage/business/ECG-fully-complies-with-Cash-Waterfall-Mechanism-1932888\n",
            "Link Text: None, URL: /GhanaHomePage/business/Account-for-US-350m-allocated-to-Accra-flood-relief-projects-NDC-to-Akufo-Addo-1932887\n",
            "Link Text: None, URL: /GhanaHomePage/business/Stanbic-Bank-reiterates-commitment-to-supporting-local-SMEs-1932880\n",
            "Link Text: None, URL: /GhanaHomePage/business/Cedi-free-fall-Alan-Kyerematen-promises-fixed-forex-rate-for-importers-1932875\n",
            "Link Text: None, URL: /GhanaHomePage/business/Pensions-Scheme-crucial-for-Ghana-s-economic-development-1932859\n",
            "Link Text: None, URL: /GhanaHomePage/business/Ghana-Stock-Exchange-boosts-commercial-paper-markets-as-inflation-trends-downward-1932858\n",
            "Link Text: None, URL: /GhanaHomePage/business/How-responsible-investing-combines-financial-benefit-and-impact-1932856\n",
            "Link Text: None, URL: /GhanaHomePage/business/Stop-public-advertisement-of-foreign-exchange-rates-BoG-directs-forex-bureaus-1932848\n",
            "Link Text: None, URL: /GhanaHomePage/business/Ghana-has-become-bankrupt-economy-collapsed-due-to-poor-leadership-Mahama-1932844\n",
            "Link Text: None, URL: /GhanaHomePage/business/There-s-no-end-in-sight-Mahama-on-continuous-cedi-depreciation-1932831\n",
            "Link Text: None, URL: /GhanaHomePage/business/Please-don-t-leave-the-country-Mahama-pleads-with-businesses-investor-community-1932829\n",
            "Link Text: None, URL: /GhanaHomePage/business/Policy-failures-weak-fundamentals-are-the-cause-of-Cedi-depreciation-Prof-Bokpin-1932823\n",
            "Link Text: None, URL: /GhanaHomePage/business/FULL-TEXT-BoG-keeps-policy-rate-unchanged-at-29-after-118th-MPC-meeting-1932822\n",
            "Link Text: None, URL: /GhanaHomePage/business/Burkina-Faso-Mali-and-Niger-reaffirm-faith-in-Ghana-s-ports-1932803\n",
            "Link Text: None, URL: /GhanaHomePage/business/BoG-maintains-monetary-policy-rate-at-29-as-inflation-exchange-rate-pressures-persist-1932802\n",
            "Link Text: None, URL: /GhanaHomePage/business/Duties-are-charged-in-cedis-GRA-sets-record-straight-1932799\n",
            "Link Text: None, URL: /GhanaHomePage/business/Female-maritime-professionals-urged-to-lead-with-positive-work-ethic-and-learning-attitude-1932792\n",
            "Link Text: None, URL: /GhanaHomePage/business/Beige-Bank-case-Any-customer-whose-account-is-debited-receives-alert-Sixth-Defense-witness-to-Court-1932791\n",
            "Link Text: None, URL: /GhanaHomePage/business/First-National-Bank-helps-Makola-with-money-management-skills-1932789\n",
            "Link Text: None, URL: /GhanaHomePage/business/LIVESTREAMED-BoG-holds-118th-MPC-press-briefing-1932784\n",
            "Link Text: None, URL: https://www.ghanaweb.com/GhanaHomePage/television/biztech\n",
            "Link Text: None, URL: We-re-checking-our-expenditure-in-this-election-year-Abena-Osei-Asare-1932945?video=1\n",
            "Link Text: None, URL: /GhanaHomePage/NewsArchive/\n",
            "Link Text: None, URL: /GhanaHomePage/SportsArchive/\n",
            "Link Text: None, URL: /GhanaHomePage/entertainment/\n",
            "Link Text: None, URL: /GhanaHomePage/africa/\n",
            "Link Text: None, URL: /GhanaHomePage/opinions/\n",
            "Link Text: None, URL: https://www.afriswap.com/bdc\n",
            "Link Text: AADS, URL: /GhanaHomePage/economy/stock_quote.php?Quote=AADS\n",
            "Link Text: ACCESS, URL: /GhanaHomePage/economy/stock_quote.php?Quote=ACCESS\n",
            "Link Text: ADB, URL: /GhanaHomePage/economy/stock_quote.php?Quote=ADB\n",
            "Link Text: AGA, URL: /GhanaHomePage/economy/stock_quote.php?Quote=AGA\n",
            "Link Text: ALW, URL: /GhanaHomePage/economy/stock_quote.php?Quote=ALW\n",
            "Link Text: AYRTN, URL: /GhanaHomePage/economy/stock_quote.php?Quote=AYRTN\n",
            "Link Text: BOPP, URL: /GhanaHomePage/economy/stock_quote.php?Quote=BOPP\n",
            "Link Text: CAL, URL: /GhanaHomePage/economy/stock_quote.php?Quote=CAL\n",
            "Link Text: CLYD, URL: /GhanaHomePage/economy/stock_quote.php?Quote=CLYD\n",
            "Link Text: CMLT, URL: /GhanaHomePage/economy/stock_quote.php?Quote=CMLT\n",
            "Link Text: CPC, URL: /GhanaHomePage/economy/stock_quote.php?Quote=CPC\n",
            "Link Text: DIGICUT, URL: /GhanaHomePage/economy/stock_quote.php?Quote=DIGICUT\n",
            "Link Text: EGH, URL: /GhanaHomePage/economy/stock_quote.php?Quote=EGH\n",
            "Link Text: EGL, URL: /GhanaHomePage/economy/stock_quote.php?Quote=EGL\n",
            "Link Text: ETI, URL: /GhanaHomePage/economy/stock_quote.php?Quote=ETI\n",
            "Link Text: FML, URL: /GhanaHomePage/economy/stock_quote.php?Quote=FML\n",
            "Link Text: GCB, URL: /GhanaHomePage/economy/stock_quote.php?Quote=GCB\n",
            "Link Text: GGBL, URL: /GhanaHomePage/economy/stock_quote.php?Quote=GGBL\n",
            "Link Text: GLD, URL: /GhanaHomePage/economy/stock_quote.php?Quote=GLD\n",
            "Link Text: GOIL, URL: /GhanaHomePage/economy/stock_quote.php?Quote=GOIL\n",
            "Link Text: GSR, URL: /GhanaHomePage/economy/stock_quote.php?Quote=GSR\n",
            "Link Text: HORDS, URL: /GhanaHomePage/economy/stock_quote.php?Quote=HORDS\n",
            "Link Text: IIL, URL: /GhanaHomePage/economy/stock_quote.php?Quote=IIL\n",
            "Link Text: MAC, URL: /GhanaHomePage/economy/stock_quote.php?Quote=MAC\n",
            "Link Text: MLC, URL: /GhanaHomePage/economy/stock_quote.php?Quote=MLC\n",
            "Link Text: MMH, URL: /GhanaHomePage/economy/stock_quote.php?Quote=MMH\n",
            "Link Text: MTNGH, URL: /GhanaHomePage/economy/stock_quote.php?Quote=MTNGH\n",
            "Link Text: PBC, URL: /GhanaHomePage/economy/stock_quote.php?Quote=PBC\n",
            "Link Text: PKL, URL: /GhanaHomePage/economy/stock_quote.php?Quote=PKL\n",
            "Link Text: PZC, URL: /GhanaHomePage/economy/stock_quote.php?Quote=PZC\n",
            "Link Text: RBGH, URL: /GhanaHomePage/economy/stock_quote.php?Quote=RBGH\n",
            "Link Text: SAMBA, URL: /GhanaHomePage/economy/stock_quote.php?Quote=SAMBA\n",
            "Link Text: SCB, URL: /GhanaHomePage/economy/stock_quote.php?Quote=SCB\n",
            "Link Text: SCB PREF, URL: /GhanaHomePage/economy/stock_quote.php?Quote=SCB PREF\n",
            "Link Text: SIC, URL: /GhanaHomePage/economy/stock_quote.php?Quote=SIC\n",
            "Link Text: SOGEGH, URL: /GhanaHomePage/economy/stock_quote.php?Quote=SOGEGH\n",
            "Link Text: SPL, URL: /GhanaHomePage/economy/stock_quote.php?Quote=SPL\n",
            "Link Text: SWL, URL: /GhanaHomePage/economy/stock_quote.php?Quote=SWL\n",
            "Link Text: TBL, URL: /GhanaHomePage/economy/stock_quote.php?Quote=TBL\n",
            "Link Text: TLW, URL: /GhanaHomePage/economy/stock_quote.php?Quote=TLW\n",
            "Link Text: TOTAL, URL: /GhanaHomePage/economy/stock_quote.php?Quote=TOTAL\n",
            "Link Text: UNIL, URL: /GhanaHomePage/economy/stock_quote.php?Quote=UNIL\n",
            "Link Text: About Us, URL: /GhanaHomePage/aboutus.php\n",
            "Link Text: Advertising, URL: /advertise/\n",
            "Link Text:  FAQ , URL: https://support.ghanaweb.com/portal/en/home\n",
            "Link Text: Sitemap, URL: /GhanaHomePage/sitemap.php\n",
            "Link Text: Privacy Policy, URL: /GhanaHomePage/privacy_policy.php\n"
          ]
        }
      ]
    }
  ]
}